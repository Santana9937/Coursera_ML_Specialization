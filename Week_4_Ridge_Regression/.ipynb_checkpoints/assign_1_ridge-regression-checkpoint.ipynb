{
 "cells": [
  {
   "cell_type": "markdown",
   "metadata": {},
   "source": [
    "# Regression Week 4: Ridge Regression (interpretation)"
   ]
  },
  {
   "cell_type": "markdown",
   "metadata": {},
   "source": [
    "In this notebook, we will run ridge regression multiple times with different L2 penalties to see which one produces the best fit. We will revisit the example of polynomial regression as a means to see the effect of L2 regularization. In particular, we will:\n",
    "* Use a pre-built implementation of regression (GraphLab Create) to run polynomial regression\n",
    "* Use matplotlib to visualize polynomial regressions\n",
    "* Use a pre-built implementation of regression (GraphLab Create) to run polynomial regression, this time with L2 penalty\n",
    "* Use matplotlib to visualize polynomial regressions under L2 regularization\n",
    "* Choose best L2 penalty using cross-validation.\n",
    "* Assess the final fit using test data.\n",
    "\n",
    "We will continue to use the House data from previous notebooks.  (In the next programming assignment for this module, you will implement your own ridge regression learning algorithm using gradient descent.)"
   ]
  },
  {
   "cell_type": "markdown",
   "metadata": {},
   "source": [
    "## Importing Libraries"
   ]
  },
  {
   "cell_type": "code",
   "execution_count": 50,
   "metadata": {
    "collapsed": false
   },
   "outputs": [],
   "source": [
    "import os\n",
    "import zipfile\n",
    "import numpy as np\n",
    "import pandas as pd\n",
    "from sklearn import linear_model\n",
    "import matplotlib as mpl\n",
    "import matplotlib.pyplot as plt\n",
    "import seaborn as sns\n",
    "sns.set_style('darkgrid')\n",
    "%matplotlib inline"
   ]
  },
  {
   "cell_type": "markdown",
   "metadata": {},
   "source": [
    "## Unzipping files with house sales data"
   ]
  },
  {
   "cell_type": "markdown",
   "metadata": {},
   "source": [
    "Dataset is from house sales in King County, the region where the city of Seattle, WA is located."
   ]
  },
  {
   "cell_type": "code",
   "execution_count": 51,
   "metadata": {
    "collapsed": true
   },
   "outputs": [],
   "source": [
    "# Put files in current direction into a list\n",
    "files_list = [f for f in os.listdir('.') if os.path.isfile(f)]"
   ]
  },
  {
   "cell_type": "code",
   "execution_count": 52,
   "metadata": {
    "collapsed": true
   },
   "outputs": [],
   "source": [
    "# Filenames of unzipped files\n",
    "unzip_files = ['kc_house_data.csv','wk3_kc_house_set_1_data.csv', 'wk3_kc_house_set_2_data.csv',\n",
    "               'wk3_kc_house_set_3_data.csv', 'wk3_kc_house_set_4_data.csv', 'wk3_kc_house_test_data.csv',\n",
    "               'wk3_kc_house_train_data.csv', 'wk3_kc_house_valid_data.csv', 'wk3_kc_house_train_valid_shuffled.csv']"
   ]
  },
  {
   "cell_type": "code",
   "execution_count": 53,
   "metadata": {
    "collapsed": false
   },
   "outputs": [],
   "source": [
    "# If upzipped file not in files_list, unzip the file\n",
    "for filename in unzip_files:\n",
    "    if filename not in files_list:\n",
    "        zip_file = filename + '.zip'\n",
    "        unzipping = zipfile.ZipFile(zip_file)\n",
    "        unzipping.extractall()\n",
    "        unzipping.close"
   ]
  },
  {
   "cell_type": "markdown",
   "metadata": {},
   "source": [
    "# Polynomial regression, revisited"
   ]
  },
  {
   "cell_type": "markdown",
   "metadata": {},
   "source": [
    "We build on the material from Week 3, where we wrote the function to produce an SFrame with columns containing the powers of a given input. Copy and paste the function `polynomial_sframe` from Week 3:"
   ]
  },
  {
   "cell_type": "code",
   "execution_count": 54,
   "metadata": {
    "collapsed": true
   },
   "outputs": [],
   "source": [
    "def polynomial_dataframe(feature, degree): # feature is pandas.Series type\n",
    "    # assume that degree >= 1\n",
    "    # initialize the dataframe:\n",
    "    poly_dataframe = pd.DataFrame()\n",
    "    # and set poly_dataframe['power_1'] equal to the passed feature\n",
    "    poly_dataframe['power_1'] = feature\n",
    "    \n",
    "    # first check if degree > 1\n",
    "    if degree > 1:\n",
    "        # then loop over the remaining degrees:\n",
    "        for power in range(2, degree+1):\n",
    "            # first we'll give the column a name:\n",
    "            name = 'power_' + str(power)\n",
    "            # assign poly_dataframe[name] to be feature^power; use apply(*)\n",
    "            poly_dataframe[name] = poly_dataframe['power_1'].apply(lambda x: x**power) \n",
    "    return poly_dataframe    "
   ]
  },
  {
   "cell_type": "markdown",
   "metadata": {},
   "source": [
    "Let's use matplotlib to visualize what a polynomial regression looks like on the house data."
   ]
  },
  {
   "cell_type": "code",
   "execution_count": 55,
   "metadata": {
    "collapsed": true
   },
   "outputs": [],
   "source": [
    "# Dictionary with the correct dtypes for the DataFrame columns\n",
    "dtype_dict = {'bathrooms':float, 'waterfront':int, 'sqft_above':int, 'sqft_living15':float, 'grade':int, \n",
    "              'yr_renovated':int, 'price':float, 'bedrooms':float, 'zipcode':str, 'long':float, \n",
    "              'sqft_lot15':float, 'sqft_living':float, 'floors':str, 'condition':int, 'lat':float, \n",
    "              'date':str, 'sqft_basement':int, 'yr_built':int, 'id':str, 'sqft_lot':int, 'view':int}"
   ]
  },
  {
   "cell_type": "code",
   "execution_count": 56,
   "metadata": {
    "collapsed": false
   },
   "outputs": [],
   "source": [
    "sales = pd.read_csv('kc_house_data.csv', dtype = dtype_dict)"
   ]
  },
  {
   "cell_type": "markdown",
   "metadata": {},
   "source": [
    "As in Week 3, we will use the sqft_living variable. For plotting purposes (connecting the dots), you'll need to sort by the values of sqft_living. For houses with identical square footage, we break the tie by their prices."
   ]
  },
  {
   "cell_type": "code",
   "execution_count": 57,
   "metadata": {
    "collapsed": false
   },
   "outputs": [
    {
     "data": {
      "text/html": [
       "<div>\n",
       "<table border=\"1\" class=\"dataframe\">\n",
       "  <thead>\n",
       "    <tr style=\"text-align: right;\">\n",
       "      <th></th>\n",
       "      <th>sqft_living</th>\n",
       "      <th>price</th>\n",
       "    </tr>\n",
       "  </thead>\n",
       "  <tbody>\n",
       "    <tr>\n",
       "      <th>19452</th>\n",
       "      <td>290</td>\n",
       "      <td>142000</td>\n",
       "    </tr>\n",
       "    <tr>\n",
       "      <th>15381</th>\n",
       "      <td>370</td>\n",
       "      <td>276000</td>\n",
       "    </tr>\n",
       "    <tr>\n",
       "      <th>860</th>\n",
       "      <td>380</td>\n",
       "      <td>245000</td>\n",
       "    </tr>\n",
       "    <tr>\n",
       "      <th>18379</th>\n",
       "      <td>384</td>\n",
       "      <td>265000</td>\n",
       "    </tr>\n",
       "    <tr>\n",
       "      <th>4868</th>\n",
       "      <td>390</td>\n",
       "      <td>228000</td>\n",
       "    </tr>\n",
       "  </tbody>\n",
       "</table>\n",
       "</div>"
      ],
      "text/plain": [
       "       sqft_living   price\n",
       "19452          290  142000\n",
       "15381          370  276000\n",
       "860            380  245000\n",
       "18379          384  265000\n",
       "4868           390  228000"
      ]
     },
     "execution_count": 57,
     "metadata": {},
     "output_type": "execute_result"
    }
   ],
   "source": [
    "sales = sales.sort_values(['sqft_living', 'price'])\n",
    "sales[['sqft_living', 'price']].head()"
   ]
  },
  {
   "cell_type": "markdown",
   "metadata": {},
   "source": [
    "Plotting the data we are working with"
   ]
  },
  {
   "cell_type": "code",
   "execution_count": 58,
   "metadata": {
    "collapsed": false
   },
   "outputs": [
    {
     "data": {
      "image/png": "[encoded data removed]",
      "text/plain": [
       "<matplotlib.figure.Figure at 0x10c85fad0>"
      ]
     },
     "metadata": {},
     "output_type": "display_data"
    }
   ],
   "source": [
    "plt.figure(figsize=(8,6))\n",
    "plt.plot(sales['sqft_living'], sales['price'],'.')\n",
    "plt.xlabel('Living Area (ft^2)', fontsize=16)\n",
    "plt.ylabel('House Price ($)', fontsize=16)\n",
    "plt.title('King County, Seattle House Price Data', fontsize=18)\n",
    "plt.axis([0.0, 14000.0, 0.0, 8000000.0])\n",
    "plt.show()"
   ]
  },
  {
   "cell_type": "markdown",
   "metadata": {},
   "source": [
    "Let us revisit the 15th-order polynomial model using the 'sqft_living' input. Generate polynomial features up to degree 15 using `polynomial_sframe()` and fit a model with these features. When fitting the model, use an L2 penalty of `1e-5`:"
   ]
  },
  {
   "cell_type": "code",
   "execution_count": 59,
   "metadata": {
    "collapsed": true
   },
   "outputs": [],
   "source": [
    "# Bulding dataframe with 15 polynomial features\n",
    "poly15_data = polynomial_dataframe(sales['sqft_living'], 15)"
   ]
  },
  {
   "cell_type": "code",
   "execution_count": 60,
   "metadata": {
    "collapsed": true
   },
   "outputs": [],
   "source": [
    "l2_small_penalty = 1e-5"
   ]
  },
  {
   "cell_type": "code",
   "execution_count": 61,
   "metadata": {
    "collapsed": false
   },
   "outputs": [
    {
     "data": {
      "text/plain": [
       "Ridge(alpha=1e-05, copy_X=True, fit_intercept=True, max_iter=None,\n",
       "   normalize=True, solver='auto', tol=0.001)"
      ]
     },
     "execution_count": 61,
     "metadata": {},
     "output_type": "execute_result"
    }
   ],
   "source": [
    "model = linear_model.Ridge(alpha=l2_small_penalty, normalize=True)\n",
    "model.fit(poly15_data, sales['price'])"
   ]
  },
  {
   "cell_type": "markdown",
   "metadata": {},
   "source": [
    "Note: When we have so many features and so few data points, the solution can become highly numerically unstable, which can sometimes lead to strange unpredictable results.  Thus, rather than using no regularization, we will introduce a tiny amount of regularization (`l2_penalty=1e-5`) to make the solution numerically stable.  (In lecture, we discussed the fact that regularization can also help with numerical stability, and here we are seeing a practical example.)\n",
    "\n",
    "With the L2 penalty specified above, fit the model and print out the learned weights."
   ]
  },
  {
   "cell_type": "markdown",
   "metadata": {},
   "source": [
    "***QUIZ QUESTION:  What's the learned value for the coefficient of feature `power_1`?***"
   ]
  },
  {
   "cell_type": "code",
   "execution_count": 62,
   "metadata": {
    "collapsed": false
   },
   "outputs": [
    {
     "name": "stdout",
     "output_type": "stream",
     "text": [
      "Weight for power_1 feature is: 174.43\n"
     ]
    }
   ],
   "source": [
    "print 'Weight for power_1 feature is: %.2f' % (model.coef_[0])"
   ]
  },
  {
   "cell_type": "markdown",
   "metadata": {},
   "source": [
    "## Observe overfitting"
   ]
  },
  {
   "cell_type": "markdown",
   "metadata": {},
   "source": [
    "Recall from Week 3 that the polynomial fit of degree 15 changed wildly whenever the data changed. In particular, when we split the sales data into four subsets and fit the model of degree 15, the result came out to be very different for each subset. The model had a *high variance*. We will see in a moment that ridge regression reduces such variance. But first, we must reproduce the experiment we did in Week 3."
   ]
  },
  {
   "cell_type": "markdown",
   "metadata": {},
   "source": [
    "First, split the data into split the sales data into four subsets of roughly equal size and call them `set_1`, `set_2`, `set_3`, and `set_4`. Use `.random_split` function and make sure you set `seed=0`. "
   ]
  },
  {
   "cell_type": "code",
   "execution_count": 63,
   "metadata": {
    "collapsed": true
   },
   "outputs": [],
   "source": [
    "set_1 = pd.read_csv('wk3_kc_house_set_1_data.csv', dtype=dtype_dict)\n",
    "set_2 = pd.read_csv('wk3_kc_house_set_2_data.csv', dtype=dtype_dict)\n",
    "set_3 = pd.read_csv('wk3_kc_house_set_3_data.csv', dtype=dtype_dict)\n",
    "set_4 = pd.read_csv('wk3_kc_house_set_4_data.csv', dtype=dtype_dict)"
   ]
  },
  {
   "cell_type": "markdown",
   "metadata": {},
   "source": [
    "Next, fit a 15th degree polynomial on `set_1`, `set_2`, `set_3`, and `set_4`, using 'sqft_living' to predict prices. Print the weights and make a plot of the resulting model.\n",
    "\n",
    "Hint: When calling `graphlab.linear_regression.create()`, use the same L2 penalty as before (i.e. `l2_small_penalty`).  Also, make sure GraphLab Create doesn't create its own validation set by using the option `validation_set = None` in this call."
   ]
  },
  {
   "cell_type": "code",
   "execution_count": 64,
   "metadata": {
    "collapsed": true
   },
   "outputs": [],
   "source": [
    "# Putting data and keys in a list for looping\n",
    "data_list = [set_1, set_2, set_3, set_4]\n",
    "key_list = ['set_1', 'set_2', 'set_3', 'set_4']"
   ]
  },
  {
   "cell_type": "code",
   "execution_count": 65,
   "metadata": {
    "collapsed": true
   },
   "outputs": [],
   "source": [
    "# model_poly_deg is a dict which holds all the regression models for the ith polynomial fit\n",
    "poly_15_dframe_dict = {}\n",
    "models_poly_15_dict = {}"
   ]
  },
  {
   "cell_type": "code",
   "execution_count": 66,
   "metadata": {
    "collapsed": true
   },
   "outputs": [],
   "source": [
    "# First, learn models with a really small L2 penalty\n",
    "l2_small_penalty = 1e-9"
   ]
  },
  {
   "cell_type": "code",
   "execution_count": 67,
   "metadata": {
    "collapsed": false
   },
   "outputs": [],
   "source": [
    "# Looping over polynomial features from 1-15\n",
    "for key, dframe in zip(key_list, data_list):\n",
    "    \n",
    "    # Entering each dataframe returned from polynomial_dataframe function into a dict\n",
    "    # Then, saving col_names into a list to do regression w/ these features. Then, adding price column to dataframe\n",
    "    poly_15_dframe_dict[key] = polynomial_dataframe(dframe['sqft_living'], 15)\n",
    "    \n",
    "    # Adding regression models to dicts\n",
    "    models_poly_15_dict[key] = linear_model.Ridge(alpha=l2_small_penalty, normalize=True)\n",
    "    models_poly_15_dict[key].fit( poly_15_dframe_dict[key], dframe['price'] )    "
   ]
  },
  {
   "cell_type": "markdown",
   "metadata": {
    "collapsed": false,
    "scrolled": false
   },
   "source": [
    "Plotting the data and the 4 different 15 degree polynomials we learned from the data."
   ]
  },
  {
   "cell_type": "code",
   "execution_count": 68,
   "metadata": {
    "collapsed": false
   },
   "outputs": [
    {
     "data": {
      "image/png": "[encoded data removed]",
      "text/plain": [
       "<matplotlib.figure.Figure at 0x10d83f450>"
      ]
     },
     "metadata": {},
     "output_type": "display_data"
    }
   ],
   "source": [
    "plt.figure(figsize=(8,6))\n",
    "plt.plot(sales['sqft_living'], sales['price'],'.', label= 'House Price Data')\n",
    "plt.hold(True)\n",
    "#\n",
    "for i, key in enumerate(key_list):\n",
    "    leg_label = 'Model ' + str(i+1)\n",
    "    plt.plot( poly_15_dframe_dict[key]['power_1'], models_poly_15_dict[key].predict(poly_15_dframe_dict[key]), '-', label = leg_label )\n",
    "#             \n",
    "plt.hold(False)\n",
    "plt.legend(loc='upper left', fontsize=16)\n",
    "plt.xlabel('Living Area (ft^2)', fontsize=16)\n",
    "plt.ylabel('House Price ($)', fontsize=16)\n",
    "plt.title('4 Diff. 15th Deg. Polynomial Regr. Models, Small L2 Penalty', fontsize=16)\n",
    "plt.axis([0.0, 14000.0, 0.0, 8000000.0])\n",
    "plt.show()"
   ]
  },
  {
   "cell_type": "markdown",
   "metadata": {},
   "source": [
    "The four curves should differ from one another a lot, as should the coefficients you learned.\n",
    "\n",
    "***QUIZ QUESTION:  For the models learned in each of these training sets, what are the smallest and largest values you learned for the coefficient of feature `power_1`?***  (For the purpose of answering this question, negative numbers are considered \"smaller\" than positive numbers. So -5 is smaller than -3, and -3 is smaller than 5 and so forth.)"
   ]
  },
  {
   "cell_type": "code",
   "execution_count": 69,
   "metadata": {
    "collapsed": false
   },
   "outputs": [],
   "source": [
    "power_l_coeff_list = []\n",
    "for key in key_list:\n",
    "    power_l_coeff_list.append( models_poly_15_dict[key].coef_[0] )"
   ]
  },
  {
   "cell_type": "code",
   "execution_count": 70,
   "metadata": {
    "collapsed": false
   },
   "outputs": [
    {
     "name": "stdout",
     "output_type": "stream",
     "text": [
      "Smallest power_1 weight with small L2 penalty is: -755.40\n",
      "Largest  power_1 weight with small L2 penalty is: 1119.45\n"
     ]
    }
   ],
   "source": [
    "print 'Smallest power_1 weight with small L2 penalty is: %.2f' %( min(power_l_coeff_list))\n",
    "print 'Largest  power_1 weight with small L2 penalty is: %.2f' %( max(power_l_coeff_list))"
   ]
  },
  {
   "cell_type": "markdown",
   "metadata": {},
   "source": [
    "# Ridge regression comes to rescue"
   ]
  },
  {
   "cell_type": "markdown",
   "metadata": {},
   "source": [
    "Generally, whenever we see weights change so much in response to change in data, we believe the variance of our estimate to be large. Ridge regression aims to address this issue by penalizing \"large\" weights. (Weights of `model15` looked quite small, but they are not that small because 'sqft_living' input is in the order of thousands.)\n",
    "\n",
    "With the argument `l2_penalty=1e5`, fit a 15th-order polynomial model on `set_1`, `set_2`, `set_3`, and `set_4`. Other than the change in the `l2_penalty` parameter, the code should be the same as the experiment above. Also, make sure GraphLab Create doesn't create its own validation set by using the option `validation_set = None` in this call."
   ]
  },
  {
   "cell_type": "code",
   "execution_count": 71,
   "metadata": {
    "collapsed": false,
    "scrolled": false
   },
   "outputs": [],
   "source": [
    "# model_poly_deg is a dict which holds all the regression models for the ith polynomial fit\n",
    "poly_15_dframe_dict = {}\n",
    "models_poly_15_dict = {}"
   ]
  },
  {
   "cell_type": "code",
   "execution_count": 72,
   "metadata": {
    "collapsed": false,
    "scrolled": false
   },
   "outputs": [],
   "source": [
    "# Re-learn models with a large L2 penalty\n",
    "l2_large_penalty=1.23e2"
   ]
  },
  {
   "cell_type": "code",
   "execution_count": 73,
   "metadata": {
    "collapsed": false
   },
   "outputs": [],
   "source": [
    "# Looping over polynomial features from 1-15\n",
    "for key, dframe in zip(key_list, data_list):\n",
    "    \n",
    "    # Entering each dataframe returned from polynomial_dataframe function into a dict\n",
    "    # Then, saving col_names into a list to do regression w/ these features. Then, adding price column to dataframe\n",
    "    poly_15_dframe_dict[key] = polynomial_dataframe(dframe['sqft_living'], 15)\n",
    "    \n",
    "    # Adding regression models to dicts\n",
    "    models_poly_15_dict[key] = linear_model.Ridge(alpha=l2_large_penalty, normalize=True)\n",
    "    models_poly_15_dict[key].fit( poly_15_dframe_dict[key], dframe['price'] )  "
   ]
  },
  {
   "cell_type": "code",
   "execution_count": 74,
   "metadata": {
    "collapsed": false
   },
   "outputs": [
    {
     "data": {
      "image/png": "[encoded data removed]",
      "text/plain": [
       "<matplotlib.figure.Figure at 0x10c8432d0>"
      ]
     },
     "metadata": {},
     "output_type": "display_data"
    }
   ],
   "source": [
    "plt.figure(figsize=(8,6))\n",
    "plt.plot(sales['sqft_living'], sales['price'],'.', label= 'House Price Data')\n",
    "plt.hold(True)\n",
    "#\n",
    "for i, key in enumerate(key_list):\n",
    "    leg_label = 'Model ' + str(i+1)\n",
    "    plt.plot( poly_15_dframe_dict[key]['power_1'], models_poly_15_dict[key].predict(poly_15_dframe_dict[key]), '-', label = leg_label )\n",
    "#             \n",
    "plt.hold(False)\n",
    "plt.legend(loc='upper left', fontsize=16)\n",
    "plt.xlabel('Living Area (ft^2)', fontsize=16)\n",
    "plt.ylabel('House Price ($)', fontsize=16)\n",
    "plt.title('4 Diff. 15th Deg. Polynomial Regr. Models, Large L2 Penalty', fontsize=16)\n",
    "plt.axis([0.0, 14000.0, 0.0, 8000000.0])\n",
    "plt.show()"
   ]
  },
  {
   "cell_type": "markdown",
   "metadata": {},
   "source": [
    "These curves should vary a lot less, now that you applied a high degree of regularization.\n",
    "\n",
    "***QUIZ QUESTION:  For the models learned with the high level of regularization in each of these training sets, what are the smallest and largest values you learned for the coefficient of feature `power_1`?*** (For the purpose of answering this question, negative numbers are considered \"smaller\" than positive numbers. So -5 is smaller than -3, and -3 is smaller than 5 and so forth.)"
   ]
  },
  {
   "cell_type": "code",
   "execution_count": 75,
   "metadata": {
    "collapsed": true
   },
   "outputs": [],
   "source": [
    "power_l_coeff_list = []\n",
    "for key in key_list:\n",
    "    power_l_coeff_list.append( models_poly_15_dict[key].coef_[0] )"
   ]
  },
  {
   "cell_type": "code",
   "execution_count": 76,
   "metadata": {
    "collapsed": false
   },
   "outputs": [
    {
     "name": "stdout",
     "output_type": "stream",
     "text": [
      "Smallest power_1 weight with large L2 penalty is: 2.09\n",
      "Largest  power_1 weight with large L2 penalty is: 2.33\n"
     ]
    }
   ],
   "source": [
    "print 'Smallest power_1 weight with large L2 penalty is: %.2f' %( min(power_l_coeff_list))\n",
    "print 'Largest  power_1 weight with large L2 penalty is: %.2f' %( max(power_l_coeff_list))"
   ]
  },
  {
   "cell_type": "markdown",
   "metadata": {},
   "source": [
    "# Selecting an L2 penalty via cross-validation"
   ]
  },
  {
   "cell_type": "markdown",
   "metadata": {},
   "source": [
    "Just like the polynomial degree, the L2 penalty is a \"magic\" parameter we need to select. We could use the validation set approach as we did in the last module, but that approach has a major disadvantage: it leaves fewer observations available for training. **Cross-validation** seeks to overcome this issue by using all of the training set in a smart way.\n",
    "\n",
    "We will implement a kind of cross-validation called **k-fold cross-validation**. The method gets its name because it involves dividing the training set into k segments of roughtly equal size. Similar to the validation set method, we measure the validation error with one of the segments designated as the validation set. The major difference is that we repeat the process k times as follows:\n",
    "\n",
    "Set aside segment 0 as the validation set, and fit a model on rest of data, and evalutate it on this validation set<br>\n",
    "Set aside segment 1 as the validation set, and fit a model on rest of data, and evalutate it on this validation set<br>\n",
    "...<br>\n",
    "Set aside segment k-1 as the validation set, and fit a model on rest of data, and evalutate it on this validation set\n",
    "\n",
    "After this process, we compute the average of the k validation errors, and use it as an estimate of the generalization error. Notice that  all observations are used for both training and validation, as we iterate over segments of data. \n",
    "\n",
    "To estimate the generalization error well, it is crucial to shuffle the training data before dividing them into segments. GraphLab Create has a utility function for shuffling a given SFrame. We reserve 10% of the data as the test set and shuffle the remainder. (Make sure to use `seed=1` to get consistent answer.)"
   ]
  },
  {
   "cell_type": "code",
   "execution_count": 77,
   "metadata": {
    "collapsed": true
   },
   "outputs": [],
   "source": [
    "train_valid_shuffled = pd.read_csv('wk3_kc_house_train_valid_shuffled.csv', dtype=dtype_dict)\n",
    "test = pd.read_csv('wk3_kc_house_test_data.csv', dtype=dtype_dict)"
   ]
  },
  {
   "cell_type": "markdown",
   "metadata": {},
   "source": [
    "Once the data is shuffled, we divide it into equal segments. Each segment should receive `n/k` elements, where `n` is the number of observations in the training set and `k` is the number of segments. Since the segment 0 starts at index 0 and contains `n/k` elements, it ends at index `(n/k)-1`. The segment 1 starts where the segment 0 left off, at index `(n/k)`. With `n/k` elements, the segment 1 ends at index `(n*2/k)-1`. Continuing in this fashion, we deduce that the segment `i` starts at index `(n*i/k)` and ends at `(n*(i+1)/k)-1`."
   ]
  },
  {
   "cell_type": "markdown",
   "metadata": {},
   "source": [
    "With this pattern in mind, we write a short loop that prints the starting and ending indices of each segment, just to make sure you are getting the splits right."
   ]
  },
  {
   "cell_type": "code",
   "execution_count": 78,
   "metadata": {
    "collapsed": false
   },
   "outputs": [
    {
     "name": "stdout",
     "output_type": "stream",
     "text": [
      "0 (0, 1938)\n",
      "1 (1939, 3878)\n",
      "2 (3879, 5817)\n",
      "3 (5818, 7757)\n",
      "4 (7758, 9697)\n",
      "5 (9698, 11636)\n",
      "6 (11637, 13576)\n",
      "7 (13577, 15515)\n",
      "8 (15516, 17455)\n",
      "9 (17456, 19395)\n"
     ]
    }
   ],
   "source": [
    "n = len(train_valid_shuffled)\n",
    "k = 10 # 10-fold cross-validation\n",
    "\n",
    "for i in xrange(k):\n",
    "    start = (n*i)/k\n",
    "    end = (n*(i+1))/k-1\n",
    "    print i, (start, end)"
   ]
  },
  {
   "cell_type": "markdown",
   "metadata": {
    "collapsed": false
   },
   "source": [
    "Let us familiarize ourselves with array slicing with SFrame. To extract a continuous slice from an SFrame, use colon in square brackets. For instance, the following cell extracts rows 0 to 9 of `train_valid_shuffled`. Notice that the first index (0) is included in the slice but the last index (10) is omitted."
   ]
  },
  {
   "cell_type": "code",
   "execution_count": 79,
   "metadata": {
    "collapsed": false
   },
   "outputs": [
    {
     "data": {
      "text/html": [
       "<div>\n",
       "<table border=\"1\" class=\"dataframe\">\n",
       "  <thead>\n",
       "    <tr style=\"text-align: right;\">\n",
       "      <th></th>\n",
       "      <th>id</th>\n",
       "      <th>date</th>\n",
       "      <th>price</th>\n",
       "      <th>bedrooms</th>\n",
       "      <th>bathrooms</th>\n",
       "      <th>sqft_living</th>\n",
       "      <th>sqft_lot</th>\n",
       "      <th>floors</th>\n",
       "      <th>waterfront</th>\n",
       "      <th>view</th>\n",
       "      <th>...</th>\n",
       "      <th>grade</th>\n",
       "      <th>sqft_above</th>\n",
       "      <th>sqft_basement</th>\n",
       "      <th>yr_built</th>\n",
       "      <th>yr_renovated</th>\n",
       "      <th>zipcode</th>\n",
       "      <th>lat</th>\n",
       "      <th>long</th>\n",
       "      <th>sqft_living15</th>\n",
       "      <th>sqft_lot15</th>\n",
       "    </tr>\n",
       "  </thead>\n",
       "  <tbody>\n",
       "    <tr>\n",
       "      <th>0</th>\n",
       "      <td>2780400035</td>\n",
       "      <td>20140505T000000</td>\n",
       "      <td>665000</td>\n",
       "      <td>4</td>\n",
       "      <td>2.50</td>\n",
       "      <td>2800</td>\n",
       "      <td>5900</td>\n",
       "      <td>1</td>\n",
       "      <td>0</td>\n",
       "      <td>0</td>\n",
       "      <td>...</td>\n",
       "      <td>8</td>\n",
       "      <td>1660</td>\n",
       "      <td>1140</td>\n",
       "      <td>1963</td>\n",
       "      <td>0</td>\n",
       "      <td>98115</td>\n",
       "      <td>47.6809</td>\n",
       "      <td>-122.286</td>\n",
       "      <td>2580</td>\n",
       "      <td>5900</td>\n",
       "    </tr>\n",
       "    <tr>\n",
       "      <th>1</th>\n",
       "      <td>1703050500</td>\n",
       "      <td>20150321T000000</td>\n",
       "      <td>645000</td>\n",
       "      <td>3</td>\n",
       "      <td>2.50</td>\n",
       "      <td>2490</td>\n",
       "      <td>5978</td>\n",
       "      <td>2</td>\n",
       "      <td>0</td>\n",
       "      <td>0</td>\n",
       "      <td>...</td>\n",
       "      <td>9</td>\n",
       "      <td>2490</td>\n",
       "      <td>0</td>\n",
       "      <td>2003</td>\n",
       "      <td>0</td>\n",
       "      <td>98074</td>\n",
       "      <td>47.6298</td>\n",
       "      <td>-122.022</td>\n",
       "      <td>2710</td>\n",
       "      <td>6629</td>\n",
       "    </tr>\n",
       "    <tr>\n",
       "      <th>2</th>\n",
       "      <td>5700002325</td>\n",
       "      <td>20140605T000000</td>\n",
       "      <td>640000</td>\n",
       "      <td>3</td>\n",
       "      <td>1.75</td>\n",
       "      <td>2340</td>\n",
       "      <td>4206</td>\n",
       "      <td>1</td>\n",
       "      <td>0</td>\n",
       "      <td>0</td>\n",
       "      <td>...</td>\n",
       "      <td>7</td>\n",
       "      <td>1170</td>\n",
       "      <td>1170</td>\n",
       "      <td>1917</td>\n",
       "      <td>0</td>\n",
       "      <td>98144</td>\n",
       "      <td>47.5759</td>\n",
       "      <td>-122.288</td>\n",
       "      <td>1360</td>\n",
       "      <td>4725</td>\n",
       "    </tr>\n",
       "    <tr>\n",
       "      <th>3</th>\n",
       "      <td>0475000510</td>\n",
       "      <td>20141118T000000</td>\n",
       "      <td>594000</td>\n",
       "      <td>3</td>\n",
       "      <td>1.00</td>\n",
       "      <td>1320</td>\n",
       "      <td>5000</td>\n",
       "      <td>1</td>\n",
       "      <td>0</td>\n",
       "      <td>0</td>\n",
       "      <td>...</td>\n",
       "      <td>7</td>\n",
       "      <td>1090</td>\n",
       "      <td>230</td>\n",
       "      <td>1920</td>\n",
       "      <td>0</td>\n",
       "      <td>98107</td>\n",
       "      <td>47.6674</td>\n",
       "      <td>-122.365</td>\n",
       "      <td>1700</td>\n",
       "      <td>5000</td>\n",
       "    </tr>\n",
       "    <tr>\n",
       "      <th>4</th>\n",
       "      <td>0844001052</td>\n",
       "      <td>20150128T000000</td>\n",
       "      <td>365000</td>\n",
       "      <td>4</td>\n",
       "      <td>2.50</td>\n",
       "      <td>1904</td>\n",
       "      <td>8200</td>\n",
       "      <td>2</td>\n",
       "      <td>0</td>\n",
       "      <td>0</td>\n",
       "      <td>...</td>\n",
       "      <td>7</td>\n",
       "      <td>1904</td>\n",
       "      <td>0</td>\n",
       "      <td>1999</td>\n",
       "      <td>0</td>\n",
       "      <td>98010</td>\n",
       "      <td>47.3107</td>\n",
       "      <td>-122.001</td>\n",
       "      <td>1560</td>\n",
       "      <td>12426</td>\n",
       "    </tr>\n",
       "    <tr>\n",
       "      <th>5</th>\n",
       "      <td>2781280290</td>\n",
       "      <td>20150427T000000</td>\n",
       "      <td>305000</td>\n",
       "      <td>3</td>\n",
       "      <td>2.50</td>\n",
       "      <td>1610</td>\n",
       "      <td>3516</td>\n",
       "      <td>2</td>\n",
       "      <td>0</td>\n",
       "      <td>0</td>\n",
       "      <td>...</td>\n",
       "      <td>8</td>\n",
       "      <td>1610</td>\n",
       "      <td>0</td>\n",
       "      <td>2006</td>\n",
       "      <td>0</td>\n",
       "      <td>98055</td>\n",
       "      <td>47.4491</td>\n",
       "      <td>-122.188</td>\n",
       "      <td>1610</td>\n",
       "      <td>3056</td>\n",
       "    </tr>\n",
       "    <tr>\n",
       "      <th>6</th>\n",
       "      <td>2214800630</td>\n",
       "      <td>20141105T000000</td>\n",
       "      <td>239950</td>\n",
       "      <td>3</td>\n",
       "      <td>2.25</td>\n",
       "      <td>1560</td>\n",
       "      <td>8280</td>\n",
       "      <td>2</td>\n",
       "      <td>0</td>\n",
       "      <td>0</td>\n",
       "      <td>...</td>\n",
       "      <td>7</td>\n",
       "      <td>1560</td>\n",
       "      <td>0</td>\n",
       "      <td>1979</td>\n",
       "      <td>0</td>\n",
       "      <td>98001</td>\n",
       "      <td>47.3393</td>\n",
       "      <td>-122.259</td>\n",
       "      <td>1920</td>\n",
       "      <td>8120</td>\n",
       "    </tr>\n",
       "    <tr>\n",
       "      <th>7</th>\n",
       "      <td>2114700540</td>\n",
       "      <td>20141021T000000</td>\n",
       "      <td>366000</td>\n",
       "      <td>3</td>\n",
       "      <td>2.50</td>\n",
       "      <td>1320</td>\n",
       "      <td>4320</td>\n",
       "      <td>1</td>\n",
       "      <td>0</td>\n",
       "      <td>0</td>\n",
       "      <td>...</td>\n",
       "      <td>6</td>\n",
       "      <td>660</td>\n",
       "      <td>660</td>\n",
       "      <td>1918</td>\n",
       "      <td>0</td>\n",
       "      <td>98106</td>\n",
       "      <td>47.5327</td>\n",
       "      <td>-122.347</td>\n",
       "      <td>1190</td>\n",
       "      <td>4200</td>\n",
       "    </tr>\n",
       "    <tr>\n",
       "      <th>8</th>\n",
       "      <td>2596400050</td>\n",
       "      <td>20140730T000000</td>\n",
       "      <td>375000</td>\n",
       "      <td>3</td>\n",
       "      <td>1.00</td>\n",
       "      <td>1960</td>\n",
       "      <td>7955</td>\n",
       "      <td>1</td>\n",
       "      <td>0</td>\n",
       "      <td>0</td>\n",
       "      <td>...</td>\n",
       "      <td>7</td>\n",
       "      <td>1260</td>\n",
       "      <td>700</td>\n",
       "      <td>1963</td>\n",
       "      <td>0</td>\n",
       "      <td>98177</td>\n",
       "      <td>47.7641</td>\n",
       "      <td>-122.364</td>\n",
       "      <td>1850</td>\n",
       "      <td>8219</td>\n",
       "    </tr>\n",
       "    <tr>\n",
       "      <th>9</th>\n",
       "      <td>4140900050</td>\n",
       "      <td>20150126T000000</td>\n",
       "      <td>440000</td>\n",
       "      <td>4</td>\n",
       "      <td>1.75</td>\n",
       "      <td>2180</td>\n",
       "      <td>10200</td>\n",
       "      <td>1</td>\n",
       "      <td>0</td>\n",
       "      <td>2</td>\n",
       "      <td>...</td>\n",
       "      <td>8</td>\n",
       "      <td>2000</td>\n",
       "      <td>180</td>\n",
       "      <td>1966</td>\n",
       "      <td>0</td>\n",
       "      <td>98028</td>\n",
       "      <td>47.7638</td>\n",
       "      <td>-122.270</td>\n",
       "      <td>2590</td>\n",
       "      <td>10445</td>\n",
       "    </tr>\n",
       "  </tbody>\n",
       "</table>\n",
       "<p>10 rows × 21 columns</p>\n",
       "</div>"
      ],
      "text/plain": [
       "           id             date   price  bedrooms  bathrooms  sqft_living  \\\n",
       "0  2780400035  20140505T000000  665000         4       2.50         2800   \n",
       "1  1703050500  20150321T000000  645000         3       2.50         2490   \n",
       "2  5700002325  20140605T000000  640000         3       1.75         2340   \n",
       "3  0475000510  20141118T000000  594000         3       1.00         1320   \n",
       "4  0844001052  20150128T000000  365000         4       2.50         1904   \n",
       "5  2781280290  20150427T000000  305000         3       2.50         1610   \n",
       "6  2214800630  20141105T000000  239950         3       2.25         1560   \n",
       "7  2114700540  20141021T000000  366000         3       2.50         1320   \n",
       "8  2596400050  20140730T000000  375000         3       1.00         1960   \n",
       "9  4140900050  20150126T000000  440000         4       1.75         2180   \n",
       "\n",
       "   sqft_lot floors  waterfront  view     ...      grade  sqft_above  \\\n",
       "0      5900      1           0     0     ...          8        1660   \n",
       "1      5978      2           0     0     ...          9        2490   \n",
       "2      4206      1           0     0     ...          7        1170   \n",
       "3      5000      1           0     0     ...          7        1090   \n",
       "4      8200      2           0     0     ...          7        1904   \n",
       "5      3516      2           0     0     ...          8        1610   \n",
       "6      8280      2           0     0     ...          7        1560   \n",
       "7      4320      1           0     0     ...          6         660   \n",
       "8      7955      1           0     0     ...          7        1260   \n",
       "9     10200      1           0     2     ...          8        2000   \n",
       "\n",
       "   sqft_basement  yr_built  yr_renovated  zipcode      lat     long  \\\n",
       "0           1140      1963             0    98115  47.6809 -122.286   \n",
       "1              0      2003             0    98074  47.6298 -122.022   \n",
       "2           1170      1917             0    98144  47.5759 -122.288   \n",
       "3            230      1920             0    98107  47.6674 -122.365   \n",
       "4              0      1999             0    98010  47.3107 -122.001   \n",
       "5              0      2006             0    98055  47.4491 -122.188   \n",
       "6              0      1979             0    98001  47.3393 -122.259   \n",
       "7            660      1918             0    98106  47.5327 -122.347   \n",
       "8            700      1963             0    98177  47.7641 -122.364   \n",
       "9            180      1966             0    98028  47.7638 -122.270   \n",
       "\n",
       "   sqft_living15  sqft_lot15  \n",
       "0           2580        5900  \n",
       "1           2710        6629  \n",
       "2           1360        4725  \n",
       "3           1700        5000  \n",
       "4           1560       12426  \n",
       "5           1610        3056  \n",
       "6           1920        8120  \n",
       "7           1190        4200  \n",
       "8           1850        8219  \n",
       "9           2590       10445  \n",
       "\n",
       "[10 rows x 21 columns]"
      ]
     },
     "execution_count": 79,
     "metadata": {},
     "output_type": "execute_result"
    }
   ],
   "source": [
    "train_valid_shuffled[0:10] # rows 0 to 9"
   ]
  },
  {
   "cell_type": "markdown",
   "metadata": {},
   "source": [
    "Now let us extract individual segments with array slicing. Consider the scenario where we group the houses in the `train_valid_shuffled` dataframe into k=10 segments of roughly equal size, with starting and ending indices computed as above.\n",
    "Extract the fourth segment (segment 3) and assign it to a variable called `validation4`."
   ]
  },
  {
   "cell_type": "code",
   "execution_count": 80,
   "metadata": {
    "collapsed": false
   },
   "outputs": [],
   "source": [
    "i = 3\n",
    "start_ind = (n*3)/k\n",
    "end_ind = (n*(3+1))/k-1\n",
    "validation4 = train_valid_shuffled[ start_ind : end_ind + 1]"
   ]
  },
  {
   "cell_type": "markdown",
   "metadata": {},
   "source": [
    "To verify that we have the right elements extracted, run the following cell, which computes the average price of the fourth segment. When rounded to nearest whole number, the average should be $536,234."
   ]
  },
  {
   "cell_type": "code",
   "execution_count": 81,
   "metadata": {
    "collapsed": false
   },
   "outputs": [
    {
     "name": "stdout",
     "output_type": "stream",
     "text": [
      "536234\n"
     ]
    }
   ],
   "source": [
    "print int(round(validation4['price'].mean(), 0))"
   ]
  },
  {
   "cell_type": "markdown",
   "metadata": {},
   "source": [
    "After designating one of the k segments as the validation set, we train a model using the rest of the data. To choose the remainder, we slice (0:start) and (end+1:n) of the data and paste them together. SFrame has `append()` method that pastes together two disjoint sets of rows originating from a common dataset. For instance, the following cell pastes together the first and last two rows of the `train_valid_shuffled` dataframe."
   ]
  },
  {
   "cell_type": "code",
   "execution_count": 82,
   "metadata": {
    "collapsed": false
   },
   "outputs": [
    {
     "name": "stdout",
     "output_type": "stream",
     "text": [
      "               id             date    price  bedrooms  bathrooms  sqft_living  \\\n",
      "0      2780400035  20140505T000000   665000         4       2.50         2800   \n",
      "1      1703050500  20150321T000000   645000         3       2.50         2490   \n",
      "19394  4139480190  20140916T000000  1153000         3       3.25         3780   \n",
      "19395  7237300290  20150326T000000   338000         5       2.50         2400   \n",
      "\n",
      "       sqft_lot floors  waterfront  view     ...      grade  sqft_above  \\\n",
      "0          5900      1           0     0     ...          8        1660   \n",
      "1          5978      2           0     0     ...          9        2490   \n",
      "19394     10623      1           0     1     ...         11        2650   \n",
      "19395      4496      2           0     0     ...          7        2400   \n",
      "\n",
      "       sqft_basement  yr_built  yr_renovated  zipcode      lat     long  \\\n",
      "0               1140      1963             0    98115  47.6809 -122.286   \n",
      "1                  0      2003             0    98074  47.6298 -122.022   \n",
      "19394           1130      1999             0    98006  47.5506 -122.101   \n",
      "19395              0      2004             0    98042  47.3692 -122.126   \n",
      "\n",
      "       sqft_living15  sqft_lot15  \n",
      "0               2580        5900  \n",
      "1               2710        6629  \n",
      "19394           3850       11170  \n",
      "19395           1880        4319  \n",
      "\n",
      "[4 rows x 21 columns]\n"
     ]
    }
   ],
   "source": [
    "n = len(train_valid_shuffled)\n",
    "first_two = train_valid_shuffled[0:2]\n",
    "last_two = train_valid_shuffled[n-2:n]\n",
    "print first_two.append(last_two)"
   ]
  },
  {
   "cell_type": "markdown",
   "metadata": {},
   "source": [
    "Extract the remainder of the data after *excluding* fourth segment (segment 3) and assign the subset to `train4`."
   ]
  },
  {
   "cell_type": "code",
   "execution_count": 83,
   "metadata": {
    "collapsed": true
   },
   "outputs": [],
   "source": [
    "i = 3\n",
    "k = 10\n",
    "n = len(train_valid_shuffled)\n",
    "start_ind = (n*3)/k\n",
    "end_ind = (n*(3+1))/k-1\n",
    "train4 = train_valid_shuffled[0:start].append(train_valid_shuffled[end+1:n])"
   ]
  },
  {
   "cell_type": "markdown",
   "metadata": {},
   "source": [
    "To verify that we have the right elements extracted, run the following cell, which computes the average price of the data with fourth segment excluded. When rounded to nearest whole number, the average should be $539,450."
   ]
  },
  {
   "cell_type": "code",
   "execution_count": 84,
   "metadata": {
    "collapsed": false
   },
   "outputs": [
    {
     "name": "stdout",
     "output_type": "stream",
     "text": [
      "538918\n"
     ]
    }
   ],
   "source": [
    "print int(round(train4['price'].mean(), 0))"
   ]
  },
  {
   "cell_type": "markdown",
   "metadata": {},
   "source": [
    "Now we are ready to implement k-fold cross-validation. Write a function that computes k validation errors by designating each of the k segments as the validation set. It accepts as parameters (i) `k`, (ii) `l2_penalty`, (iii) dataframe, (iv) name of output column (e.g. `price`) and (v) list of feature names. The function returns the average validation error using k segments as validation sets.\n",
    "\n",
    "* For each i in [0, 1, ..., k-1]:\n",
    "  * Compute starting and ending indices of segment i and call 'start' and 'end'\n",
    "  * Form validation set by taking a slice (start:end+1) from the data.\n",
    "  * Form training set by appending slice (end+1:n) to the end of slice (0:start).\n",
    "  * Train a linear model using training set just formed, with a given l2_penalty\n",
    "  * Compute validation error using validation set just formed"
   ]
  },
  {
   "cell_type": "code",
   "execution_count": 85,
   "metadata": {
    "collapsed": false
   },
   "outputs": [],
   "source": [
    "def k_fold_cross_validation(k, l2_penalty, data, output_vals):\n",
    "    \n",
    "    # Defining n as the number of observations and an empty list to store the k cross_validation errors\n",
    "    n = len(data)\n",
    "    cv_error_list = []\n",
    "    \n",
    "    # Looping to compute k slices. Computing the array index to get the kth_slice.\n",
    "    for i in range(k):\n",
    "        \n",
    "        # Getting the starting and ending index of the kth slice\n",
    "        start = (n*i)/k\n",
    "        end = (n*(i+1))/k-1\n",
    "        \n",
    "        # Using start and end to split data into cross-validation and training set\n",
    "        cv_set = data[start: end + 1]\n",
    "        training_set = data[0:start].append(data[end+1:n])\n",
    "        \n",
    "        # Using the training data to create a linear regression model\n",
    "        model_train_data = linear_model.Ridge(alpha=l2_penalty, normalize=True)\n",
    "        model_train_data.fit( data, output_vals )\n",
    "        \n",
    "        # Computing np.array with predictions from the model we learn\n",
    "        predictions = model_train_data.predict(data)\n",
    "        \n",
    "        # Computing the error on the cross-validation set\n",
    "        RSS_cv_set = sum( (predictions - output_vals)**2 )\n",
    "        \n",
    "        cv_error_list.append(RSS_cv_set)\n",
    "     \n",
    "    # Return the average validation error\n",
    "    return sum(cv_error_list)/float(len(cv_error_list))"
   ]
  },
  {
   "cell_type": "markdown",
   "metadata": {},
   "source": [
    "Once we have a function to compute the average validation error for a model, we can write a loop to find the model that minimizes the average validation error. Write a loop that does the following:\n",
    "* We will again be aiming to fit a 15th-order polynomial model using the `sqft_living` input\n",
    "* For `l2_penalty` in [10^1, 10^1.5, 10^2, 10^2.5, ..., 10^7] (to get this in Python, you can use this Numpy function: `np.logspace(1, 7, num=13)`.)\n",
    "    * Run 10-fold cross-validation with `l2_penalty`\n",
    "* Report which L2 penalty produced the lowest average validation error.\n",
    "\n",
    "Note: since the degree of the polynomial is now fixed to 15, to make things faster, you should generate polynomial features in advance and re-use them throughout the loop. Make sure to use `train_valid_shuffled` when generating polynomial features!"
   ]
  },
  {
   "cell_type": "code",
   "execution_count": 86,
   "metadata": {
    "collapsed": true
   },
   "outputs": [],
   "source": [
    "l2_penalty_list = np.logspace(3, 9, num=26)"
   ]
  },
  {
   "cell_type": "code",
   "execution_count": 87,
   "metadata": {
    "collapsed": true
   },
   "outputs": [],
   "source": [
    "poly_15_dframe = polynomial_dataframe(train_valid_shuffled['sqft_living'], 15)\n",
    "output_values = train_valid_shuffled['price']"
   ]
  },
  {
   "cell_type": "code",
   "execution_count": 88,
   "metadata": {
    "collapsed": true
   },
   "outputs": [],
   "source": [
    "l2_RSS_list = []\n",
    "for l2_pen in l2_penalty_list:\n",
    "    \n",
    "    RSS_error = k_fold_cross_validation(10, l2_pen, poly_15_dframe, output_values)\n",
    "    l2_RSS_list.append( (RSS_error, l2_pen) )"
   ]
  },
  {
   "cell_type": "markdown",
   "metadata": {},
   "source": [
    "***QUIZ QUESTIONS:  What is the best value for the L2 penalty according to 10-fold validation?***"
   ]
  },
  {
   "cell_type": "code",
   "execution_count": 89,
   "metadata": {
    "collapsed": false
   },
   "outputs": [
    {
     "name": "stdout",
     "output_type": "stream",
     "text": [
      "Minimum value for RSS error is  : 2.65e+15\n",
      "L2 penalty for this RSS error is: 1.00e+03\n"
     ]
    }
   ],
   "source": [
    "print 'Minimum value for RSS error is  : %.2e' %min(l2_RSS_list)[0]\n",
    "print 'L2 penalty for this RSS error is: %.2e' %min(l2_RSS_list)[1]"
   ]
  },
  {
   "cell_type": "markdown",
   "metadata": {},
   "source": [
    "You may find it useful to plot the k-fold cross-validation errors you have obtained to better understand the behavior of the method.  "
   ]
  },
  {
   "cell_type": "code",
   "execution_count": 90,
   "metadata": {
    "collapsed": true
   },
   "outputs": [],
   "source": [
    "# Putting all L2 penalties and RSS errors for plotting\n",
    "L2_plot_list = []\n",
    "RSS_plot_list = []\n",
    "\n",
    "for entry in l2_RSS_list:\n",
    "    L2_plot_list.append(entry[1])\n",
    "    RSS_plot_list.append(entry[0])   "
   ]
  },
  {
   "cell_type": "code",
   "execution_count": 91,
   "metadata": {
    "collapsed": false
   },
   "outputs": [
    {
     "data": {
      "image/png": "[encoded data removed]",
      "text/plain": [
       "<matplotlib.figure.Figure at 0x10c922490>"
      ]
     },
     "metadata": {},
     "output_type": "display_data"
    }
   ],
   "source": [
    "# Plot the l2_penalty values in the x axis and the cross-validation error in the y axis.\n",
    "# Using plt.xscale('log') will make your plot more intuitive.\n",
    "\n",
    "plt.figure(figsize=(8,6))\n",
    "plt.plot(L2_plot_list, RSS_plot_list,'-')\n",
    "plt.xscale('log')\n",
    "#\n",
    "plt.xlabel('L2 penalty ' + r'$(\\lambda)$', fontsize=16)\n",
    "plt.ylabel('Average Cross-Validation RSS', fontsize=16)\n",
    "plt.title('Cross-Validation RSS vs. L2 Penalty', fontsize=16)\n",
    "#\n",
    "plt.show()"
   ]
  },
  {
   "cell_type": "markdown",
   "metadata": {},
   "source": [
    "Once you found the best value for the L2 penalty using cross-validation, it is important to retrain a final model on all of the training data using this value of `l2_penalty`.  This way, your final model will be trained on the entire dataset."
   ]
  },
  {
   "cell_type": "code",
   "execution_count": 92,
   "metadata": {
    "collapsed": true
   },
   "outputs": [],
   "source": [
    "min_L2_pen = min(l2_RSS_list)[1]"
   ]
  },
  {
   "cell_type": "markdown",
   "metadata": {},
   "source": [
    "***QUIZ QUESTION: Using the best L2 penalty found above, train a model using all training data. What is the RSS on the TEST data of the model you learn with this L2 penalty? ***"
   ]
  },
  {
   "cell_type": "code",
   "execution_count": 93,
   "metadata": {
    "collapsed": true
   },
   "outputs": [],
   "source": [
    "# Loading the training set data and defining the dataframe w/ 15 polynomial features\n",
    "train_data = pd.read_csv('wk3_kc_house_train_data.csv', dtype = dtype_dict)\n",
    "train_data = train_data.sort_values(['sqft_living', 'price'])\n",
    "poly_15_train_data = polynomial_dataframe(train_data['sqft_living'], 15)"
   ]
  },
  {
   "cell_type": "code",
   "execution_count": 94,
   "metadata": {
    "collapsed": false
   },
   "outputs": [
    {
     "data": {
      "text/plain": [
       "Ridge(alpha=1000.0, copy_X=True, fit_intercept=True, max_iter=None,\n",
       "   normalize=True, solver='auto', tol=0.001)"
      ]
     },
     "execution_count": 94,
     "metadata": {},
     "output_type": "execute_result"
    }
   ],
   "source": [
    "# Training a linear regression model with L2 penalty that gave the smallest RSS error\n",
    "model_train_data = linear_model.Ridge(alpha=min_L2_pen, normalize=True)\n",
    "model_train_data.fit( poly_15_train_data, train_data['price'] )"
   ]
  },
  {
   "cell_type": "code",
   "execution_count": 95,
   "metadata": {
    "collapsed": true
   },
   "outputs": [],
   "source": [
    "# Now, loading the test data and defining the dataframe w/ 15 polynomial features\n",
    "test_data = pd.read_csv('wk3_kc_house_test_data.csv', dtype = dtype_dict)\n",
    "poly_15_test_data = polynomial_dataframe(test_data['sqft_living'], 15)"
   ]
  },
  {
   "cell_type": "code",
   "execution_count": 96,
   "metadata": {
    "collapsed": true
   },
   "outputs": [],
   "source": [
    "# Using the weights learning from the training data to calculate the predictions on the test data\n",
    "predictions = model_train_data.predict(poly_15_test_data)"
   ]
  },
  {
   "cell_type": "code",
   "execution_count": 97,
   "metadata": {
    "collapsed": false
   },
   "outputs": [],
   "source": [
    "# Computing the RSS on the test data\n",
    "RSS_test_set = sum( (predictions - test_data['price'])**2 )"
   ]
  },
  {
   "cell_type": "code",
   "execution_count": 98,
   "metadata": {
    "collapsed": false
   },
   "outputs": [
    {
     "name": "stdout",
     "output_type": "stream",
     "text": [
      "RSS on test data with min_L2_pen: 2.84e+14\n"
     ]
    }
   ],
   "source": [
    "print 'RSS on test data with min_L2_pen: %.2e' %(RSS_test_set)"
   ]
  },
  {
   "cell_type": "code",
   "execution_count": null,
   "metadata": {
    "collapsed": true
   },
   "outputs": [],
   "source": []
  }
 ],
 "metadata": {
  "kernelspec": {
   "display_name": "Python 2",
   "language": "python",
   "name": "python2"
  },
  "language_info": {
   "codemirror_mode": {
    "name": "ipython",
    "version": 2
   },
   "file_extension": ".py",
   "mimetype": "text/x-python",
   "name": "python",
   "nbconvert_exporter": "python",
   "pygments_lexer": "ipython2",
   "version": "2.7.11"
  }
 },
 "nbformat": 4,
 "nbformat_minor": 0
}
